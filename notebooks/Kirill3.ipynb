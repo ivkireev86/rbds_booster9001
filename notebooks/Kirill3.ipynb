{
 "cells": [
  {
   "cell_type": "code",
   "execution_count": 10,
   "metadata": {
    "collapsed": true
   },
   "outputs": [],
   "source": [
    "import pandas as pd\n",
    "import numpy as np\n",
    "from sklearn import preprocessing\n",
    "from sklearn.linear_model import LinearRegression\n",
    "from sklearn.metrics import mean_absolute_error\n",
    "from datetime import datetime, date, time\n",
    "import json\n",
    "from sklearn.model_selection import train_test_split"
   ]
  },
  {
   "cell_type": "code",
   "execution_count": 3,
   "metadata": {
    "collapsed": true
   },
   "outputs": [],
   "source": [
    "def open_dict(d):\n",
    "    for k, v in d.items():\n",
    "        if type(v) is dict:\n",
    "            for _k, _v in open_dict(v):\n",
    "                yield _k, _v\n",
    "        else:\n",
    "            yield k, v\n",
    "\n",
    "def parse_line(l):\n",
    "    x = json.loads(l)\n",
    "    return dict(open_dict(x))\n",
    "\n",
    "with open(\"../data/train.json\", \"r\") as f:\n",
    "    pd_train = pd.DataFrame([parse_line(l) for l in f.readlines()])"
   ]
  },
  {
   "cell_type": "code",
   "execution_count": 8,
   "metadata": {
    "collapsed": true
   },
   "outputs": [],
   "source": [
    "Y = pd.read_csv(\"../data/train_target.csv\").target.values"
   ]
  },
  {
   "cell_type": "code",
   "execution_count": 11,
   "metadata": {},
   "outputs": [],
   "source": [
    "X_train_raw, X_test_raw, Y_train, Y_test = train_test_split(pd_train, Y, test_size=0.1, random_state=0)"
   ]
  },
  {
   "cell_type": "code",
   "execution_count": null,
   "metadata": {
    "collapsed": true
   },
   "outputs": [],
   "source": [
    "X_train_pre = X_train_raw.content.apply(lambda x: len(x.split())).values.reshape(-1,1)\n",
    "X_train_pre1 = X_train_raw.title.apply(lambda x: len(x.split())).values.reshape(-1,1)\n",
    "X_train_pre2 = np.log(X_train_pre1)"
   ]
  }
 ],
 "metadata": {
  "kernelspec": {
   "display_name": "Python 3",
   "language": "python",
   "name": "python3"
  },
  "language_info": {
   "codemirror_mode": {
    "name": "ipython",
    "version": 3
   },
   "file_extension": ".py",
   "mimetype": "text/x-python",
   "name": "python",
   "nbconvert_exporter": "python",
   "pygments_lexer": "ipython3",
   "version": "3.6.3"
  }
 },
 "nbformat": 4,
 "nbformat_minor": 2
}
